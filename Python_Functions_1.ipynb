{
  "nbformat": 4,
  "nbformat_minor": 0,
  "metadata": {
    "colab": {
      "provenance": []
    },
    "kernelspec": {
      "name": "python3",
      "display_name": "Python 3"
    },
    "language_info": {
      "name": "python"
    }
  },
  "cells": [
    {
      "cell_type": "code",
      "execution_count": 4,
      "metadata": {
        "colab": {
          "base_uri": "https://localhost:8080/"
        },
        "id": "tjNke1vnw5AH",
        "outputId": "cbc936e7-6db1-48aa-8a6f-ec65814e2133"
      },
      "outputs": [
        {
          "output_type": "stream",
          "name": "stdout",
          "text": [
            "you have submitted  10  as input\n"
          ]
        }
      ],
      "source": [
        "# Create a python function that takes one argument as input and display in the format -\n",
        "# You have submitted x as input [x being the input given by user]\n",
        "\n",
        "def inputParameter(num):\n",
        "    print(\"you have submitted \" , num , \" as input\")\n",
        "\n",
        "inputParameter(10)"
      ]
    }
  ]
}