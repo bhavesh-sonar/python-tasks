{
  "nbformat": 4,
  "nbformat_minor": 0,
  "metadata": {
    "colab": {
      "provenance": []
    },
    "kernelspec": {
      "name": "python3",
      "display_name": "Python 3"
    },
    "language_info": {
      "name": "python"
    }
  },
  "cells": [
    {
      "cell_type": "code",
      "execution_count": 1,
      "metadata": {
        "colab": {
          "base_uri": "https://localhost:8080/"
        },
        "id": "H8fLBLDrzQpr",
        "outputId": "96991630-ec4e-4615-ca65-ccf6b05a43ec"
      },
      "outputs": [
        {
          "output_type": "stream",
          "name": "stdout",
          "text": [
            "Square of input  int number is :  4\n"
          ]
        }
      ],
      "source": [
        "# Create a python function that takes one argument as input. The input argument must be\n",
        "# an integer (ensure this using python). The function should display a square of input\n",
        "# integer to the user.\n",
        "\n",
        "def squareInt(num):\n",
        "    return num * num\n",
        "\n",
        "print(\"Square of input int number is :\", squareInt(2))"
      ]
    }
  ]
}