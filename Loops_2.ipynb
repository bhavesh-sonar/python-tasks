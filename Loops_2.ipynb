{
  "nbformat": 4,
  "nbformat_minor": 0,
  "metadata": {
    "colab": {
      "provenance": []
    },
    "kernelspec": {
      "name": "python3",
      "display_name": "Python 3"
    },
    "language_info": {
      "name": "python"
    }
  },
  "cells": [
    {
      "cell_type": "code",
      "execution_count": 2,
      "metadata": {
        "colab": {
          "base_uri": "https://localhost:8080/"
        },
        "id": "MFQSiCsF-Bbc",
        "outputId": "851378c0-14b9-43ed-e096-27a6a53aa9e9"
      },
      "outputs": [
        {
          "output_type": "stream",
          "name": "stdout",
          "text": [
            "bada number\n"
          ]
        }
      ],
      "source": [
        "# Create a python code that takes one integer input from the user. The program should\n",
        "# display bada number if the input is greater than 20. Otherwise the program should display\n",
        "# chota number.\n",
        "\n",
        "def numCheck(num):\n",
        "    if num > 20:\n",
        "      print(\"bada number\")\n",
        "    else:\n",
        "      print(\"chota number\")\n",
        "\n",
        "numCheck(199)"
      ]
    }
  ]
}