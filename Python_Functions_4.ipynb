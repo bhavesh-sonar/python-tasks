{
  "nbformat": 4,
  "nbformat_minor": 0,
  "metadata": {
    "colab": {
      "provenance": []
    },
    "kernelspec": {
      "name": "python3",
      "display_name": "Python 3"
    },
    "language_info": {
      "name": "python"
    }
  },
  "cells": [
    {
      "cell_type": "code",
      "execution_count": 1,
      "metadata": {
        "colab": {
          "base_uri": "https://localhost:8080/"
        },
        "id": "GpyYtwYs1NJx",
        "outputId": "8185e8a7-fc7e-48f1-d808-cbeedc5167ef"
      },
      "outputs": [
        {
          "output_type": "stream",
          "name": "stdout",
          "text": [
            "8\n"
          ]
        }
      ],
      "source": [
        "# Create a python function that takes two arguments as inputs. The input arguments must\n",
        "# be integers (ensure this using python). The function should display a multiplication of\n",
        "# input integers to the user.\n",
        "\n",
        "def multiplication(num1, num2):\n",
        "    print(num1 * num2)\n",
        "\n",
        "multiplication(2, 4)"
      ]
    }
  ]
}