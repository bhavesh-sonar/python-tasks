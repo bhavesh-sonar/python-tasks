{
  "nbformat": 4,
  "nbformat_minor": 0,
  "metadata": {
    "colab": {
      "provenance": []
    },
    "kernelspec": {
      "name": "python3",
      "display_name": "Python 3"
    },
    "language_info": {
      "name": "python"
    }
  },
  "cells": [
    {
      "cell_type": "code",
      "execution_count": 7,
      "metadata": {
        "colab": {
          "base_uri": "https://localhost:8080/"
        },
        "id": "QB-gHfTA15v9",
        "outputId": "8008c770-29cc-4d25-cb7d-337420e8475e"
      },
      "outputs": [
        {
          "output_type": "stream",
          "name": "stdout",
          "text": [
            "2\n",
            "You have submitted a  <class 'str'> value\n",
            "<class 'int'>\n"
          ]
        }
      ],
      "source": [
        "# Create a python code that takes an input from the user. The code should display the data\n",
        "# given input to the user in the format - You have submitted a int value [int would be\n",
        "# replaced by the datatype]\n",
        "\n",
        "user = input()\n",
        "print(\"You have submitted a \", type(user) ,\"value\")\n",
        "\n",
        "num=10\n",
        "print(type(num))\n",
        "\n",
        "num=10.10\n",
        "print(type(num))"
      ]
    }
  ]
}