{
  "nbformat": 4,
  "nbformat_minor": 0,
  "metadata": {
    "colab": {
      "provenance": []
    },
    "kernelspec": {
      "name": "python3",
      "display_name": "Python 3"
    },
    "language_info": {
      "name": "python"
    }
  },
  "cells": [
    {
      "cell_type": "code",
      "execution_count": 1,
      "metadata": {
        "colab": {
          "base_uri": "https://localhost:8080/"
        },
        "id": "dEA0qG1R0H9B",
        "outputId": "5e83a74f-0d1b-4abf-9f84-f2a505db0f27"
      },
      "outputs": [
        {
          "output_type": "stream",
          "name": "stdout",
          "text": [
            "Square of input num is- 4 \n",
            " Cube of input is- 8\n"
          ]
        }
      ],
      "source": [
        "# Create a python function that takes one argument as input. The input argument must be\n",
        "# an integer (ensure this using python). The function should display a square & cube of\n",
        "# input integer to the user.\n",
        "\n",
        "def sqrAndCube(num):\n",
        "    sqr = num*num\n",
        "    cube = num*num*num\n",
        "    print(\"Square of input num is:\", sqr, \"\\n Cube of input is:\", cube)\n",
        "\n",
        "sqrAndCube(2)\n",
        "\n",
        "\n",
        "\n"
      ]
    }
  ]
}